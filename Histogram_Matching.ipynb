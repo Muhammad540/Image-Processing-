{
  "nbformat": 4,
  "nbformat_minor": 0,
  "metadata": {
    "colab": {
      "provenance": []
    },
    "kernelspec": {
      "name": "python3",
      "display_name": "Python 3"
    },
    "language_info": {
      "name": "python"
    }
  },
  "cells": [
    {
      "cell_type": "markdown",
      "source": [
        "This example demonstrates the feature of histogram matching. It manipulates the pixels of an input image so that its histogram matches the histogram of the reference image. If the images have multiple channels, the matching is done independently for each channel, as long as the number of channels is equal in the input image and the reference."
      ],
      "metadata": {
        "id": "-jHFbAdkrI2J"
      }
    },
    {
      "cell_type": "code",
      "source": [
        "# Some Necassory Imports\n",
        "from PIL import Image\n",
        "import matplotlib.pyplot as plt\n",
        "import numpy as np\n",
        "import skimage as ski\n",
        "from skimage.io import imread, imshow"
      ],
      "metadata": {
        "id": "PVgDXkITrvJ0"
      },
      "execution_count": null,
      "outputs": []
    },
    {
      "cell_type": "code",
      "source": [
        "# some image properties using pillow\n",
        "image = Image.open(\"car.jpeg\")\n",
        "print(image.format)\n",
        "print(image.size)\n",
        "print(image.mode)\n",
        "# Read Image\n",
        "img = imread('car.jpeg')\n",
        "plt.imshow(img,cmap=\"gray\")"
      ],
      "metadata": {
        "id": "kTFJUXVhtiOG"
      },
      "execution_count": null,
      "outputs": []
    },
    {
      "cell_type": "code",
      "source": [
        "import matplotlib.pyplot as plt\n",
        "\n",
        "from skimage import data\n",
        "from skimage import exposure\n",
        "from skimage.exposure import match_histograms\n",
        "\n",
        "reference = data.coffee()\n",
        "\n",
        "matched = match_histograms(reference, img, channel_axis=-1)\n",
        "\n",
        "fig, (ax1, ax2, ax3) = plt.subplots(nrows=1, ncols=3, figsize=(8, 3),\n",
        "                                    sharex=True, sharey=True)\n",
        "for aa in (ax1, ax2, ax3):\n",
        "    aa.set_axis_off()\n",
        "\n",
        "ax1.imshow(image)\n",
        "ax1.set_title('Source')\n",
        "ax2.imshow(reference)\n",
        "ax2.set_title('Reference')\n",
        "ax3.imshow(matched)\n",
        "ax3.set_title('Matched')\n",
        "\n",
        "plt.tight_layout()\n",
        "plt.show()"
      ],
      "metadata": {
        "id": "L-h7PRyQrK3W"
      },
      "execution_count": null,
      "outputs": []
    },
    {
      "cell_type": "code",
      "source": [],
      "metadata": {
        "id": "dOKONkfYu7sQ"
      },
      "execution_count": null,
      "outputs": []
    }
  ]
}