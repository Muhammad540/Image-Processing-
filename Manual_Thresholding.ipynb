{
  "nbformat": 4,
  "nbformat_minor": 0,
  "metadata": {
    "colab": {
      "provenance": []
    },
    "kernelspec": {
      "name": "python3",
      "display_name": "Python 3"
    },
    "language_info": {
      "name": "python"
    }
  },
  "cells": [
    {
      "cell_type": "code",
      "execution_count": null,
      "metadata": {
        "id": "1ssvhSmbu6xF"
      },
      "outputs": [],
      "source": [
        "# Some Necassory Imports\n",
        "from PIL import Image\n",
        "import matplotlib.pyplot as plt\n",
        "import numpy as np\n",
        "import skimage as ski\n",
        "from skimage.io import imread, imshow"
      ]
    },
    {
      "cell_type": "code",
      "source": [
        "# some image properties using pillow\n",
        "image = Image.open(\"roadsign.jpg\")\n",
        "print(image.format)\n",
        "print(image.size)\n",
        "print(image.mode)\n",
        "# Read Image\n",
        "img = imread('roadsign.jpg')\n",
        "plt.imshow(img)"
      ],
      "metadata": {
        "id": "dhw7md4SxDhb"
      },
      "execution_count": null,
      "outputs": []
    },
    {
      "cell_type": "markdown",
      "source": [
        "My objective is to identify the road speed limt board signs, for the car to identify and adjust its speed accordingly. I will perform Manual thresholding\n",
        "by observing histogram analysis\n"
      ],
      "metadata": {
        "id": "v_SQ0Ps_xpy5"
      }
    },
    {
      "cell_type": "code",
      "source": [
        "from skimage.color import rgb2gray\n",
        "grayed = rgb2gray(img)\n",
        "fig , axes =  plt.subplots(1,2 , figsize=(8,4))\n",
        "ax = axes.ravel()\n",
        "ax[0].imshow(img)\n",
        "ax[0].set_title(\"Original\")\n",
        "ax[1].imshow(grayed, cmap=plt.cm.gray)\n",
        "ax[1].set_title(\"Grayscale\")\n",
        "\n",
        "fig.tight_layout()\n",
        "plt.show()"
      ],
      "metadata": {
        "id": "ns_Mk1BWxTGc"
      },
      "execution_count": null,
      "outputs": []
    },
    {
      "cell_type": "code",
      "source": [
        "# plotting the histogram of the grayed image\n",
        "plt.hist(grayed.ravel(), 1000)\n",
        "plt.title(\"Histogram of the grayed out image\")\n",
        "plt.axvline(x=0.35, color='r', linestyle='dashed', linewidth=2)\n",
        "plt.show()"
      ],
      "metadata": {
        "id": "RJwlPqmRz0AD"
      },
      "execution_count": null,
      "outputs": []
    },
    {
      "cell_type": "markdown",
      "source": [
        "By visual inspection, i think 0.35 will be reasonable threshold to separate the\n",
        "white regions from the black ones\n"
      ],
      "metadata": {
        "id": "X9aUNDBP0r_G"
      }
    },
    {
      "cell_type": "code",
      "source": [
        "grayed_cpy = grayed.copy()\n",
        "thresh = 0.35\n",
        "binary_image_black = (grayed < 0.3 )\n",
        "binary_image_white = (grayed > 0.3 )\n",
        "# set the black regions to white and white to black\n",
        "grayed_cpy[binary_image_black] = 1\n",
        "grayed_cpy[binary_image_white] = 0\n",
        "plt.imshow(grayed_cpy , cmap= 'gray')"
      ],
      "metadata": {
        "id": "f67Xt6U40TJQ"
      },
      "execution_count": null,
      "outputs": []
    },
    {
      "cell_type": "markdown",
      "source": [
        "Now it is easier to detect the speed limit, by basic image processing\n"
      ],
      "metadata": {
        "id": "VX5bazvX1-wb"
      }
    },
    {
      "cell_type": "code",
      "source": [],
      "metadata": {
        "id": "m8GJMcOR1pA1"
      },
      "execution_count": null,
      "outputs": []
    }
  ]
}