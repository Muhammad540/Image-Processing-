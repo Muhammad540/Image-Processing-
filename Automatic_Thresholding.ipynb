{
  "nbformat": 4,
  "nbformat_minor": 0,
  "metadata": {
    "colab": {
      "provenance": []
    },
    "kernelspec": {
      "name": "python3",
      "display_name": "Python 3"
    },
    "language_info": {
      "name": "python"
    }
  },
  "cells": [
    {
      "cell_type": "code",
      "execution_count": null,
      "metadata": {
        "id": "e1rzhlHc2x8v"
      },
      "outputs": [],
      "source": [
        "# Some Necassory Imports\n",
        "from PIL import Image\n",
        "import matplotlib.pyplot as plt\n",
        "import numpy as np\n",
        "import skimage as ski\n",
        "from skimage.io import imread, imshow"
      ]
    },
    {
      "cell_type": "code",
      "source": [
        "# some image properties using pillow\n",
        "image = Image.open(\"roadsign.jpg\")\n",
        "print(image.format)\n",
        "print(image.size)\n",
        "print(image.mode)\n",
        "# Read Image\n",
        "img = imread('roadsign.jpg')\n",
        "plt.imshow(img)"
      ],
      "metadata": {
        "id": "CWhL8VpP21K6"
      },
      "execution_count": null,
      "outputs": []
    },
    {
      "cell_type": "code",
      "source": [
        "#grey out the image\n",
        "from skimage.color import rgb2gray\n",
        "grayed = rgb2gray(img)\n",
        "plt.imshow(grayed, cmap='gray')"
      ],
      "metadata": {
        "id": "R8G3hIUeMk58"
      },
      "execution_count": null,
      "outputs": []
    },
    {
      "cell_type": "markdown",
      "source": [
        "Testing with different Automatic filter thresholding techniques and presenting their outputs:\n",
        "\n",
        "\n",
        "1.   ISODATA Method\n",
        "2.   Li’s iterative Minimum Cross Entropy method\n",
        "3.   Otsu\n",
        "\n",
        "there are alot more check out ski library\n",
        "\n",
        "\n",
        "\n"
      ],
      "metadata": {
        "id": "MW62_qMVKKCo"
      }
    },
    {
      "cell_type": "markdown",
      "source": [
        "Some description of Ridler-Calvard method:\n",
        "\n",
        "**Initial Threshold Selection:** The process begins by selecting an initial threshold. This can be done in various ways, such as choosing the mean intensity of the image, a midpoint between the maximum and minimum intensity, or any other method.\n",
        "\n",
        "**Mean Calculation:** Once the initial threshold is set, the algorithm divides the image into two parts:\n",
        "\n",
        "Pixels with intensity values less than or equal to the threshold.\n",
        "Pixels with intensity values greater than the threshold.\n",
        "Calculate Means: Calculate the mean intensity of the pixels in both groups separately. One mean is for the pixels below or equal to the threshold (background), and the other is for pixels above the threshold (foreground).\n",
        "\n",
        "**Update Threshold:** The new threshold is calculated as the average of these two means. This is what your formula represents:\n",
        "New Threshold = Mean of background pixels + Mean of foreground pixels/2\n",
        "\n",
        "**Iterative Process:** This process is repeated iteratively. In each iteration, the threshold is updated based on the new means calculated in the previous step.\n",
        "\n",
        "**Convergence:** The iteration continues until the threshold value stabilizes, meaning that there is minimal or no change in the threshold value between successive iterations. This indicates that the algorithm has found an optimal threshold to distinguish between the background and the foreground.\n",
        "\n",
        "The Ridler-Calvard method is particularly effective for images with a bimodal histogram, where there are two distinct peaks corresponding to the background and the foreground. The algorithm aims to find a threshold that lies between these two peaks, effectively separating the two regions in the image."
      ],
      "metadata": {
        "id": "ttSReV2WLqhX"
      }
    },
    {
      "cell_type": "code",
      "source": [
        "grayed_cp = grayed.copy()\n",
        "thresh = ski.filters.threshold_isodata(grayed_cp)\n",
        "print(f\"this is thershold value predicted {thresh}\")\n",
        "binary = (grayed_cp > thresh)\n",
        "plt.imshow(binary, cmap='gray')\n",
        "#this does a fairly good job and converting the image into a binary image"
      ],
      "metadata": {
        "id": "t9g0LFCNKA3i"
      },
      "execution_count": null,
      "outputs": []
    },
    {
      "cell_type": "markdown",
      "source": [
        "LI's Method\n",
        "\n",
        "Initial Threshold Selection: The method starts with the selection of an initial threshold. This can be the mean intensity of the image, or another heuristic value.\n",
        "\n",
        "Dividing the Image: Based on the threshold, the image is divided into two groups:\n",
        "\n",
        "Pixels with intensity values less than or equal to the threshold.\n",
        "Pixels with intensity values greater than the threshold.\n",
        "Background and Foreground Mean Calculation: Calculate the mean intensity of the background (pixels with intensities ≤ threshold) and the foreground (pixels with intensities > threshold).\n",
        "\n",
        "Threshold Update Using Entropy: Instead of simply averaging the means, the Li method updates the threshold based on minimizing the cross-entropy between the background and foreground distributions. The idea is to find a threshold where the difference in information content (entropy) between the two groups is minimized. This is based on the assumption that the correct threshold will separate the image into meaningful clusters with minimal information overlap.\n",
        "\n",
        "Iterative Process: This threshold updating process is repeated iteratively. In each iteration, the threshold is recalculated based on the updated means and the entropy criterion.\n",
        "\n",
        "Convergence: The iterative process continues until the threshold converges, meaning that there is little to no change in the threshold value between successive iterations. This indicates that an optimal threshold has been found."
      ],
      "metadata": {
        "id": "ZaanR4VJR3QX"
      }
    },
    {
      "cell_type": "code",
      "source": [
        "grayed_cp = grayed.copy()\n",
        "thresh = ski.filters.threshold_li(grayed_cp)\n",
        "binary = (grayed_cp > thresh)\n",
        "print(f\"this is thershold value predicted {thresh}\")\n",
        "plt.imshow(binary, cmap='gray')"
      ],
      "metadata": {
        "id": "Yo1MXarpNFv0"
      },
      "execution_count": null,
      "outputs": []
    },
    {
      "cell_type": "markdown",
      "source": [
        "The Otsu thresholding method is a popular and widely used technique for automatic image thresholding. It is particularly effective for bimodal images, where the histogram of the pixel intensity values typically has two peaks representing two distinct classes, such as foreground and background. The method aims to find a threshold that minimizes the intra-class variance, or equivalently, maximizes the inter-class variance.\n",
        "\n",
        "Here's an overview of how the Otsu thresholding method works:\n",
        "\n",
        "Histogram Calculation: First, compute the histogram of the grayscale image. The histogram represents the frequency of each intensity level in the image.\n",
        "\n",
        "Total Mean Intensity Calculation: Calculate the total mean intensity of the image. This mean is used later to compute the inter-class variance.\n",
        "\n",
        "Initialization: Set up initial values for maximum variance and the optimal threshold. Initially, the maximum variance is set to zero, and the optimal threshold can be undefined.\n",
        "\n",
        "Iterate Through All Possible Thresholds: The method iterates through all possible intensity levels (thresholds) to find the one that maximizes the inter-class variance.\n",
        "\n",
        "Compute Inter-class Variance:\n",
        "\n",
        "Find Optimal Threshold\n",
        "\n",
        "Apply Threshold: Finally, use this optimal threshold to convert the grayscale image into a binary image. Pixels with intensity less than or equal to the threshold are set to one value (often 0 for background), and those greater than the threshold are set to another value (often 255 for foreground).\n",
        "\n",
        "The Otsu method is effective because it uses the image's own pixel distribution to determine the threshold, making it adaptable to different lighting conditions and varying contrasts between foreground and background. However, its effectiveness is reduced when the image does not have a clear bimodal histogram."
      ],
      "metadata": {
        "id": "chfHPql7U0qc"
      }
    },
    {
      "cell_type": "code",
      "source": [
        "grayed_cp = grayed.copy()\n",
        "thresh = ski.filters.threshold_otsu(grayed_cp)\n",
        "binary = (grayed_cp > thresh)\n",
        "print(f\"this is thershold value predicted {thresh}\")\n",
        "plt.imshow(binary, cmap='gray')"
      ],
      "metadata": {
        "id": "yak7mSHRTuBu"
      },
      "execution_count": null,
      "outputs": []
    },
    {
      "cell_type": "code",
      "source": [
        "# lets try all different methods availble in ski Library\n",
        "grayed_cp = grayed.copy()\n",
        "fig, ax = ski.filters.try_all_threshold(grayed_cp, figsize=(10, 6), verbose=False)"
      ],
      "metadata": {
        "id": "frg6DL22VPR4"
      },
      "execution_count": null,
      "outputs": []
    },
    {
      "cell_type": "code",
      "source": [],
      "metadata": {
        "id": "plODKZv1Vn7u"
      },
      "execution_count": null,
      "outputs": []
    }
  ]
}