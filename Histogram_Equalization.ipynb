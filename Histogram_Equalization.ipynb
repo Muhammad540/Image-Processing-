{
  "nbformat": 4,
  "nbformat_minor": 0,
  "metadata": {
    "colab": {
      "provenance": []
    },
    "kernelspec": {
      "name": "python3",
      "display_name": "Python 3"
    },
    "language_info": {
      "name": "python"
    }
  },
  "cells": [
    {
      "cell_type": "markdown",
      "source": [
        "This technique enhances the images with low contrast by distributing the intesnity most frequent intensity values."
      ],
      "metadata": {
        "id": "lZ6LPQz-mS58"
      }
    },
    {
      "cell_type": "code",
      "source": [
        "from skimage.io import imread\n",
        "import skimage\n",
        "import matplotlib.pyplot as plt"
      ],
      "metadata": {
        "id": "a0MG-ocTmoeU"
      },
      "execution_count": null,
      "outputs": []
    },
    {
      "cell_type": "code",
      "source": [
        "img = imread(\"wom1.gif\")\n",
        "plt.imshow(img, cmap='gray')"
      ],
      "metadata": {
        "id": "pHmF4etYm6Tf"
      },
      "execution_count": null,
      "outputs": []
    },
    {
      "cell_type": "code",
      "source": [
        "import matplotlib\n",
        "import matplotlib.pyplot as plt\n",
        "import numpy as np\n",
        "\n",
        "from skimage import data, img_as_float\n",
        "from skimage import exposure\n",
        "\n",
        "\n",
        "matplotlib.rcParams['font.size'] = 8\n",
        "\n",
        "\n",
        "def plot_img_and_hist(image, axes, bins=256):\n",
        "    \"\"\"Plot an image along with its histogram and cumulative histogram.\n",
        "\n",
        "    \"\"\"\n",
        "    image = img_as_float(image)\n",
        "    ax_img, ax_hist = axes\n",
        "    ax_cdf = ax_hist.twinx()\n",
        "\n",
        "    # Display image\n",
        "    ax_img.imshow(image, cmap=plt.cm.gray)\n",
        "    ax_img.set_axis_off()\n",
        "\n",
        "    # Display histogram\n",
        "    ax_hist.hist(image.ravel(), bins=bins, histtype='step', color='black')\n",
        "    ax_hist.ticklabel_format(axis='y', style='scientific', scilimits=(0, 0))\n",
        "    ax_hist.set_xlabel('Pixel intensity')\n",
        "    ax_hist.set_xlim(0, 1)\n",
        "    ax_hist.set_yticks([])\n",
        "\n",
        "    # Display cumulative distribution\n",
        "    img_cdf, bins = exposure.cumulative_distribution(image, bins)\n",
        "    ax_cdf.plot(bins, img_cdf, 'r')\n",
        "    ax_cdf.set_yticks([])\n",
        "\n",
        "    return ax_img, ax_hist, ax_cdf\n",
        "\n",
        "# Contrast stretching\n",
        "p2, p98 = np.percentile(img, (2, 98))\n",
        "img_rescale = exposure.rescale_intensity(img, in_range=(p2, p98))\n",
        "\n",
        "# Equalization\n",
        "img_eq = exposure.equalize_hist(img)\n",
        "\n",
        "# Adaptive Equalization\n",
        "img_adapteq = exposure.equalize_adapthist(img, clip_limit=0.03)\n",
        "\n",
        "# Display results\n",
        "fig = plt.figure(figsize=(8, 5))\n",
        "axes = np.zeros((2, 4), dtype=object)\n",
        "axes[0, 0] = fig.add_subplot(2, 4, 1)\n",
        "for i in range(1, 4):\n",
        "    axes[0, i] = fig.add_subplot(2, 4, 1+i, sharex=axes[0,0], sharey=axes[0,0])\n",
        "for i in range(0, 4):\n",
        "    axes[1, i] = fig.add_subplot(2, 4, 5+i)\n",
        "\n",
        "ax_img, ax_hist, ax_cdf = plot_img_and_hist(img, axes[:, 0])\n",
        "ax_img.set_title('Low contrast image')\n",
        "\n",
        "y_min, y_max = ax_hist.get_ylim()\n",
        "ax_hist.set_ylabel('Number of pixels')\n",
        "ax_hist.set_yticks(np.linspace(0, y_max, 5))\n",
        "\n",
        "ax_img, ax_hist, ax_cdf = plot_img_and_hist(img_rescale, axes[:, 1])\n",
        "ax_img.set_title('Contrast stretching')\n",
        "\n",
        "ax_img, ax_hist, ax_cdf = plot_img_and_hist(img_eq, axes[:, 2])\n",
        "ax_img.set_title('Histogram equalization')\n",
        "\n",
        "ax_img, ax_hist, ax_cdf = plot_img_and_hist(img_adapteq, axes[:, 3])\n",
        "ax_img.set_title('Adaptive equalization')\n",
        "\n",
        "ax_cdf.set_ylabel('Fraction of total intensity')\n",
        "ax_cdf.set_yticks(np.linspace(0, 1, 5))\n",
        "\n",
        "# prevent overlap of y-axis labels\n",
        "fig.tight_layout()\n",
        "plt.show()"
      ],
      "metadata": {
        "id": "obYQd-NenCPo"
      },
      "execution_count": null,
      "outputs": []
    },
    {
      "cell_type": "markdown",
      "source": [
        "# Some key Notes:\n",
        "\n",
        "img_rescale = exposure.rescale_intensity(img, in_range=(p2, p98)) :          \n",
        "Rescales the intensity values of the original image (img) so that values below p2 are set to the minimum possible value and values above p98 to the maximum, enhancing contrast especially in the regions with medium-level intensities.\n",
        "\n",
        "img_eq = exposure.equalize_hist(img): applies histogram equalization to the image. It redistributes the image's lightness values so that the histogram of the output image approximately equals a flat histogram, allowing for areas of lower local contrast to gain a higher contrast.\n",
        "\n",
        "Adaptive histogram equalization adjusts the contrast locally, dividing the images into small regions and applying histogram equalization to each one.\n",
        "img_adapteq = exposure.equalize_adapthist(img, clip_limit=0.03) performs adaptive equalization on the image. The clip_limit parameter is used to limit the contrast stretching in regions where noise could be amplified; a lower clip limit reduces the risk of amplifying noise.\n",
        "\n"
      ],
      "metadata": {
        "id": "gTdCdJyjokTZ"
      }
    },
    {
      "cell_type": "code",
      "source": [],
      "metadata": {
        "id": "1oLnl84gn94D"
      },
      "execution_count": null,
      "outputs": []
    }
  ]
}